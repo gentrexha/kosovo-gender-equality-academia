{
 "cells": [
  {
   "cell_type": "code",
   "execution_count": 95,
   "metadata": {},
   "outputs": [],
   "source": [
    "import pandas as pd\n",
    "import numpy as np\n",
    "\n",
    "df_up = pd.read_csv(\n",
    "    \"../data/raw/universiteti_i_prishtines.csv\",\n",
    "    encoding=\"iso-8859-1\",\n",
    "    sep=\";\",\n",
    "    header=1,\n",
    ")\n",
    "df_fehmi = pd.read_csv(\n",
    "    \"../data/raw/fehmi_agani.csv\",\n",
    "    encoding=\"iso-8859-1\",\n",
    "    sep=\";\",\n",
    "    header=1,\n",
    ")\n",
    "df_ferizaj = pd.read_csv(\n",
    "    \"../data/raw/ferizaj_aplikuara.csv\",\n",
    "    encoding=\"iso-8859-1\",\n",
    "    sep=\";\",\n",
    "    header=1,\n",
    ")\n",
    "df_gjilan = pd.read_csv(\n",
    "    \"../data/raw/gjilan.csv\",\n",
    "    encoding=\"iso-8859-1\",\n",
    "    sep=\";\",\n",
    "    header=1,\n",
    ")\n",
    "df_islame = pd.read_csv(\n",
    "    \"../data/raw/islame.csv\",\n",
    "    encoding=\"iso-8859-1\",\n",
    "    sep=\";\",\n",
    "    header=1,\n",
    ")\n",
    "df_mitrovice = pd.read_csv(\n",
    "    \"../data/raw/mitrovice.csv\",\n",
    "    encoding=\"iso-8859-1\",\n",
    "    sep=\";\",\n",
    "    header=1,\n",
    ")\n",
    "df_peje = pd.read_csv(\n",
    "    \"../data/raw/peje.csv\",\n",
    "    encoding=\"iso-8859-1\",\n",
    "    sep=\";\",\n",
    "    header=1,\n",
    ")\n",
    "df_private = pd.read_csv(\n",
    "    \"../data/raw/private.csv\",\n",
    "    encoding=\"iso-8859-1\",\n",
    "    sep=\";\",\n",
    "    header=1,\n",
    ")\n",
    "df_prizren = pd.read_csv(\n",
    "    \"../data/raw/prizren.csv\",\n",
    "    encoding=\"iso-8859-1\",\n",
    "    sep=\";\",\n",
    "    header=1,\n",
    ")\n",
    "df_siguri = pd.read_csv(\n",
    "    \"../data/raw/siguri publike.csv\",\n",
    "    encoding=\"iso-8859-1\",\n",
    "    sep=\";\",\n",
    "    header=1,\n",
    ")\n",
    "\n",
    "dataframes = [\n",
    "    df_fehmi,\n",
    "    df_ferizaj,\n",
    "    df_gjilan,\n",
    "    df_mitrovice,\n",
    "    df_peje,\n",
    "    df_prizren,\n",
    "    df_siguri,\n",
    "]\n",
    "names = [\n",
    "    \"Universiteti i Gjakovës Fehmi Agani\",\n",
    "    \"Universiteti I Shkencave të Aplikuara. Ferizaj\",\n",
    "    \"Universiteti Kadri Zeka Gjilan\",\n",
    "    \"Universiteti Isa Boletini Mitrovicë\",\n",
    "    \"Universiteti Haxhi Zeka Pejë\",\n",
    "    \"Universiteti i Prizrenit Ukshin Hoti\",\n",
    "    \"Fakulteti për Siguri Publike-Vushtrri\",\n",
    "]\n"
   ]
  },
  {
   "cell_type": "code",
   "execution_count": 100,
   "metadata": {},
   "outputs": [],
   "source": [
    "df_all = pd.DataFrame(columns=df_siguri.columns)\n",
    "\n",
    "# adding those that can be added easily\n",
    "for i, df in enumerate(dataframes):\n",
    "    df[\"Emri\"] = names[i]\n",
    "    df_all = df_all.append(df.loc[df.iloc[:, 1]==\"Gjithsej\"], ignore_index = True)"
   ]
  },
  {
   "cell_type": "code",
   "execution_count": 104,
   "metadata": {},
   "outputs": [],
   "source": [
    "# Adding the rest"
   ]
  },
  {
   "cell_type": "code",
   "execution_count": 123,
   "metadata": {},
   "outputs": [],
   "source": [
    "# UP\n",
    "df_up.rename(columns={\"2017/2018 Te rregullt Femra\": \"Të rregullt Femra\", \n",
    "                      \"2017/2018 Te rregullt Meshkuj\":\"Të rregullt Meshkuj\", \n",
    "                      \"2017/2018 Te angazhuar Femra\":\"Të angazhuar Femra\", \n",
    "                      \"2017/2018 Te angazhuar Meshkuj\":\"Të angazhuar Meshkuj\"}, inplace=True)\n",
    "df_up[\"Emri\"] = \"Universiteti i Prishtinës\""
   ]
  },
  {
   "cell_type": "code",
   "execution_count": 130,
   "metadata": {},
   "outputs": [],
   "source": [
    "df_all = df_all.append(df_up.loc[df_up[\"fakulteti\"]==\"Gjithsej\"], ignore_index=True)"
   ]
  },
  {
   "cell_type": "code",
   "execution_count": 138,
   "metadata": {},
   "outputs": [],
   "source": [
    "# Islame\n",
    "df_islame[\"Emri\"] = \"Fakulteti i Studimeve Islame\"\n",
    "df_all = df_all.append(df_islame, ignore_index=True)"
   ]
  },
  {
   "cell_type": "code",
   "execution_count": null,
   "metadata": {},
   "outputs": [],
   "source": [
    "# Private"
   ]
  },
  {
   "cell_type": "code",
   "execution_count": 142,
   "metadata": {},
   "outputs": [],
   "source": [
    "df_private.rename(columns={\"kolegji\":\"Emri\"}, inplace=True)\n",
    "df_private[\"Emri\"] = \"Kolegji \" + df_private[\"Emri\"].values"
   ]
  },
  {
   "cell_type": "code",
   "execution_count": 147,
   "metadata": {},
   "outputs": [],
   "source": [
    "df_all = df_all.append(df_private.loc[df_private[\"Emri\"]==\"Kolegji AAB\"], ignore_index=True)\n",
    "df_all = df_all.append(df_private.loc[df_private[\"Emri\"]==\"Kolegji Fama\"], ignore_index=True)\n",
    "df_all = df_all.append(df_private.loc[df_private[\"Emri\"]==\"Kolegji UBT\"], ignore_index=True)"
   ]
  },
  {
   "cell_type": "code",
   "execution_count": 159,
   "metadata": {},
   "outputs": [],
   "source": [
    "df = df_all[[\"Emri\", \"Të angazhuar Femra\", \"Të angazhuar Meshkuj\", \"Të rregullt Femra\", \"Të rregullt Meshkuj\"]]"
   ]
  },
  {
   "cell_type": "code",
   "execution_count": 168,
   "metadata": {},
   "outputs": [
    {
     "data": {
      "text/html": [
       "<div>\n",
       "<style scoped>\n",
       "    .dataframe tbody tr th:only-of-type {\n",
       "        vertical-align: middle;\n",
       "    }\n",
       "\n",
       "    .dataframe tbody tr th {\n",
       "        vertical-align: top;\n",
       "    }\n",
       "\n",
       "    .dataframe thead th {\n",
       "        text-align: right;\n",
       "    }\n",
       "</style>\n",
       "<table border=\"1\" class=\"dataframe\">\n",
       "  <thead>\n",
       "    <tr style=\"text-align: right;\">\n",
       "      <th></th>\n",
       "      <th>Emri</th>\n",
       "      <th>Të angazhuar Femra</th>\n",
       "      <th>Të angazhuar Meshkuj</th>\n",
       "      <th>Të rregullt Femra</th>\n",
       "      <th>Të rregullt Meshkuj</th>\n",
       "    </tr>\n",
       "  </thead>\n",
       "  <tbody>\n",
       "    <tr>\n",
       "      <td>0</td>\n",
       "      <td>Universiteti i Gjakovës Fehmi Agani</td>\n",
       "      <td>22</td>\n",
       "      <td>42</td>\n",
       "      <td>17</td>\n",
       "      <td>21</td>\n",
       "    </tr>\n",
       "    <tr>\n",
       "      <td>1</td>\n",
       "      <td>Universiteti I Shkencave të Aplikuara. Ferizaj</td>\n",
       "      <td>7</td>\n",
       "      <td>24</td>\n",
       "      <td>8</td>\n",
       "      <td>17</td>\n",
       "    </tr>\n",
       "    <tr>\n",
       "      <td>2</td>\n",
       "      <td>Universiteti Kadri Zeka Gjilan</td>\n",
       "      <td>43</td>\n",
       "      <td>93</td>\n",
       "      <td>16</td>\n",
       "      <td>45</td>\n",
       "    </tr>\n",
       "    <tr>\n",
       "      <td>3</td>\n",
       "      <td>Universiteti Isa Boletini Mitrovicë</td>\n",
       "      <td>21</td>\n",
       "      <td>35</td>\n",
       "      <td>29</td>\n",
       "      <td>71</td>\n",
       "    </tr>\n",
       "    <tr>\n",
       "      <td>4</td>\n",
       "      <td>Universiteti Haxhi Zeka Pejë</td>\n",
       "      <td>19</td>\n",
       "      <td>86</td>\n",
       "      <td>30</td>\n",
       "      <td>44</td>\n",
       "    </tr>\n",
       "    <tr>\n",
       "      <td>5</td>\n",
       "      <td>Universiteti i Prizrenit Ukshin Hoti</td>\n",
       "      <td>43</td>\n",
       "      <td>93</td>\n",
       "      <td>16</td>\n",
       "      <td>45</td>\n",
       "    </tr>\n",
       "    <tr>\n",
       "      <td>6</td>\n",
       "      <td>Fakulteti për Siguri Publike-Vushtrri</td>\n",
       "      <td>3</td>\n",
       "      <td>27</td>\n",
       "      <td>2</td>\n",
       "      <td>7</td>\n",
       "    </tr>\n",
       "    <tr>\n",
       "      <td>7</td>\n",
       "      <td>Universiteti i Prishtinës</td>\n",
       "      <td>168</td>\n",
       "      <td>306</td>\n",
       "      <td>327</td>\n",
       "      <td>573</td>\n",
       "    </tr>\n",
       "    <tr>\n",
       "      <td>8</td>\n",
       "      <td>Fakulteti i Studimeve Islame</td>\n",
       "      <td>3</td>\n",
       "      <td>13</td>\n",
       "      <td>1</td>\n",
       "      <td>8</td>\n",
       "    </tr>\n",
       "    <tr>\n",
       "      <td>9</td>\n",
       "      <td>Kolegji AAB</td>\n",
       "      <td>80</td>\n",
       "      <td>94</td>\n",
       "      <td>197</td>\n",
       "      <td>241</td>\n",
       "    </tr>\n",
       "    <tr>\n",
       "      <td>10</td>\n",
       "      <td>Kolegji UBT</td>\n",
       "      <td>24</td>\n",
       "      <td>77</td>\n",
       "      <td>138</td>\n",
       "      <td>435</td>\n",
       "    </tr>\n",
       "    <tr>\n",
       "      <td>11</td>\n",
       "      <td>Kolegji Fama</td>\n",
       "      <td>1</td>\n",
       "      <td>80</td>\n",
       "      <td>21</td>\n",
       "      <td>89</td>\n",
       "    </tr>\n",
       "  </tbody>\n",
       "</table>\n",
       "</div>"
      ],
      "text/plain": [
       "                                              Emri Të angazhuar Femra  \\\n",
       "0              Universiteti i Gjakovës Fehmi Agani                 22   \n",
       "1   Universiteti I Shkencave të Aplikuara. Ferizaj                  7   \n",
       "2                   Universiteti Kadri Zeka Gjilan                 43   \n",
       "3              Universiteti Isa Boletini Mitrovicë                 21   \n",
       "4                     Universiteti Haxhi Zeka Pejë                 19   \n",
       "5             Universiteti i Prizrenit Ukshin Hoti                 43   \n",
       "6            Fakulteti për Siguri Publike-Vushtrri                  3   \n",
       "7                        Universiteti i Prishtinës                168   \n",
       "8                     Fakulteti i Studimeve Islame                  3   \n",
       "9                                      Kolegji AAB                 80   \n",
       "10                                     Kolegji UBT                 24   \n",
       "11                                    Kolegji Fama                  1   \n",
       "\n",
       "   Të angazhuar Meshkuj Të rregullt Femra Të rregullt Meshkuj  \n",
       "0                    42                17                  21  \n",
       "1                    24                 8                  17  \n",
       "2                    93                16                  45  \n",
       "3                    35                29                  71  \n",
       "4                    86                30                  44  \n",
       "5                    93                16                  45  \n",
       "6                    27                 2                   7  \n",
       "7                   306               327                 573  \n",
       "8                    13                 1                   8  \n",
       "9                    94               197                 241  \n",
       "10                   77               138                 435  \n",
       "11                   80                21                  89  "
      ]
     },
     "execution_count": 168,
     "metadata": {},
     "output_type": "execute_result"
    }
   ],
   "source": [
    "df"
   ]
  },
  {
   "cell_type": "code",
   "execution_count": 172,
   "metadata": {},
   "outputs": [],
   "source": [
    "df[\"Femra\"] = df[\"Të angazhuar Femra\"].astype(int) + df[\"Të rregullt Femra\"].astype(int)"
   ]
  },
  {
   "cell_type": "code",
   "execution_count": 173,
   "metadata": {},
   "outputs": [],
   "source": [
    "df[\"Meshkuj\"] = df[\"Të angazhuar Meshkuj\"].astype(int) + df[\"Të rregullt Meshkuj\"].astype(int)"
   ]
  },
  {
   "cell_type": "code",
   "execution_count": 174,
   "metadata": {},
   "outputs": [],
   "source": [
    "df[\"Total\"] = df[\"Femra\"].astype(int) + df[\"Meshkuj\"].astype(int)"
   ]
  },
  {
   "cell_type": "code",
   "execution_count": 176,
   "metadata": {},
   "outputs": [],
   "source": [
    "df[\"Perqindja Femra\"] = df[\"Femra\"] / df[\"Total\"]"
   ]
  },
  {
   "cell_type": "code",
   "execution_count": 177,
   "metadata": {},
   "outputs": [],
   "source": [
    "df[\"Perqindja Meshkuj\"] = df[\"Meshkuj\"] / df[\"Total\"]"
   ]
  },
  {
   "cell_type": "code",
   "execution_count": 179,
   "metadata": {},
   "outputs": [],
   "source": [
    "df.to_csv(\"gender-equality-tertiary-kosovo.csv\", index=False)"
   ]
  },
  {
   "cell_type": "code",
   "execution_count": 181,
   "metadata": {},
   "outputs": [],
   "source": [
    "# Total\n",
    "df_all = df_all.append(df_private.loc[df_private[\"Emri\"]==\"Kolegji Gjithsej\"], ignore_index=True)"
   ]
  },
  {
   "cell_type": "code",
   "execution_count": null,
   "metadata": {},
   "outputs": [],
   "source": [
    "# TODO(Fix this possible error)\n",
    "df_all.drop([9,10,11,12], inplace=True).reset_index(drop=True, inplace=True)"
   ]
  },
  {
   "cell_type": "code",
   "execution_count": 188,
   "metadata": {},
   "outputs": [],
   "source": [
    "df_all[\"Femra\"] = df_all[\"Të angazhuar Femra\"].astype(int) + df_all[\"Të rregullt Femra\"].astype(int)\n",
    "df_all[\"Meshkuj\"] = df_all[\"Të angazhuar Meshkuj\"].astype(int) + df_all[\"Të rregullt Meshkuj\"].astype(int)\n",
    "df_all[\"Total\"] = df_all[\"Femra\"].astype(int) + df_all[\"Meshkuj\"].astype(int)\n",
    "df_all[\"Perqindja Femra\"] = df_all[\"Femra\"] / df_all[\"Total\"]\n",
    "df_all[\"Perqindja Meshkuj\"] = df_all[\"Meshkuj\"] / df_all[\"Total\"]"
   ]
  },
  {
   "cell_type": "code",
   "execution_count": 216,
   "metadata": {},
   "outputs": [],
   "source": [
    "df.iloc[:,1:5] = df.iloc[:,1:5].apply(pd.to_numeric)"
   ]
  },
  {
   "cell_type": "code",
   "execution_count": 220,
   "metadata": {
    "scrolled": true
   },
   "outputs": [],
   "source": [
    "df.append(df.sum(numeric_only=True), ignore_index=True).to_csv(\"../data/processed/gender-equality.csv\", index=False)\n",
    "# TODO (Fix percentage calculation)"
   ]
  },
  {
   "cell_type": "markdown",
   "metadata": {},
   "source": [
    "# Visualization"
   ]
  },
  {
   "cell_type": "code",
   "execution_count": 195,
   "metadata": {},
   "outputs": [],
   "source": [
    "import matplotlib.pyplot as plt"
   ]
  },
  {
   "cell_type": "code",
   "execution_count": 206,
   "metadata": {},
   "outputs": [],
   "source": [
    "labels = \"Femra\", \"Meshkuj\""
   ]
  },
  {
   "cell_type": "code",
   "execution_count": 196,
   "metadata": {},
   "outputs": [
    {
     "data": {
      "image/png": "[encoded data removed]",
      "text/plain": [
       "<matplotlib.figure.Figure at 0x15d3bc00e10>"
      ]
     },
     "metadata": {
      "needs_background": "light"
     },
     "output_type": "display_data"
    }
   ],
   "source": [
    "# Make figure and axes\n",
    "fig, axs = plt.subplots(2, 2)"
   ]
  },
  {
   "cell_type": "code",
   "execution_count": 211,
   "metadata": {},
   "outputs": [
    {
     "ename": "TypeError",
     "evalue": "only size-1 arrays can be converted to Python scalars",
     "output_type": "error",
     "traceback": [
      "\u001b[1;31m---------------------------------------------------------------------------\u001b[0m",
      "\u001b[1;31mTypeError\u001b[0m                                 Traceback (most recent call last)",
      "\u001b[1;32m<ipython-input-211-699683e9a8f6>\u001b[0m in \u001b[0;36m<module>\u001b[1;34m\u001b[0m\n\u001b[0;32m      1\u001b[0m \u001b[1;31m# A standard pie plot\u001b[0m\u001b[1;33m\u001b[0m\u001b[1;33m\u001b[0m\u001b[1;33m\u001b[0m\u001b[0m\n\u001b[1;32m----> 2\u001b[1;33m \u001b[0maxs\u001b[0m\u001b[1;33m[\u001b[0m\u001b[1;36m0\u001b[0m\u001b[1;33m,\u001b[0m \u001b[1;36m0\u001b[0m\u001b[1;33m]\u001b[0m\u001b[1;33m.\u001b[0m\u001b[0mpie\u001b[0m\u001b[1;33m(\u001b[0m\u001b[0mdf\u001b[0m\u001b[1;33m[\u001b[0m\u001b[1;33m[\u001b[0m\u001b[1;34m\"Perqindja Femra\"\u001b[0m\u001b[1;33m,\u001b[0m \u001b[1;34m\"Perqindja Meshkuj\"\u001b[0m\u001b[1;33m]\u001b[0m\u001b[1;33m]\u001b[0m\u001b[1;33m.\u001b[0m\u001b[0mloc\u001b[0m\u001b[1;33m[\u001b[0m\u001b[0mdf\u001b[0m\u001b[1;33m[\u001b[0m\u001b[1;34m\"Emri\"\u001b[0m\u001b[1;33m]\u001b[0m\u001b[1;33m==\u001b[0m\u001b[1;34m\"Kolegji Fama\"\u001b[0m\u001b[1;33m]\u001b[0m\u001b[1;33m.\u001b[0m\u001b[0mvalues\u001b[0m\u001b[1;33m,\u001b[0m \u001b[0mautopct\u001b[0m\u001b[1;33m=\u001b[0m\u001b[1;34m'%1.1f%%'\u001b[0m\u001b[1;33m)\u001b[0m\u001b[1;33m\u001b[0m\u001b[1;33m\u001b[0m\u001b[0m\n\u001b[0m",
      "\u001b[1;32m~\\AppData\\Local\\Continuum\\anaconda3\\lib\\site-packages\\matplotlib\\__init__.py\u001b[0m in \u001b[0;36minner\u001b[1;34m(ax, *args, **kwargs)\u001b[0m\n\u001b[0;32m   1715\u001b[0m                     warnings.warn(msg % (label_namer, func.__name__),\n\u001b[0;32m   1716\u001b[0m                                   RuntimeWarning, stacklevel=2)\n\u001b[1;32m-> 1717\u001b[1;33m             \u001b[1;32mreturn\u001b[0m \u001b[0mfunc\u001b[0m\u001b[1;33m(\u001b[0m\u001b[0max\u001b[0m\u001b[1;33m,\u001b[0m \u001b[1;33m*\u001b[0m\u001b[0margs\u001b[0m\u001b[1;33m,\u001b[0m \u001b[1;33m**\u001b[0m\u001b[0mkwargs\u001b[0m\u001b[1;33m)\u001b[0m\u001b[1;33m\u001b[0m\u001b[1;33m\u001b[0m\u001b[0m\n\u001b[0m\u001b[0;32m   1718\u001b[0m         \u001b[0mpre_doc\u001b[0m \u001b[1;33m=\u001b[0m \u001b[0minner\u001b[0m\u001b[1;33m.\u001b[0m\u001b[0m__doc__\u001b[0m\u001b[1;33m\u001b[0m\u001b[1;33m\u001b[0m\u001b[0m\n\u001b[0;32m   1719\u001b[0m         \u001b[1;32mif\u001b[0m \u001b[0mpre_doc\u001b[0m \u001b[1;32mis\u001b[0m \u001b[1;32mNone\u001b[0m\u001b[1;33m:\u001b[0m\u001b[1;33m\u001b[0m\u001b[1;33m\u001b[0m\u001b[0m\n",
      "\u001b[1;32m~\\AppData\\Local\\Continuum\\anaconda3\\lib\\site-packages\\matplotlib\\axes\\_axes.py\u001b[0m in \u001b[0;36mpie\u001b[1;34m(self, x, explode, labels, colors, autopct, pctdistance, shadow, labeldistance, startangle, radius, counterclock, wedgeprops, textprops, center, frame, rotatelabels)\u001b[0m\n\u001b[0;32m   2609\u001b[0m             \u001b[0mtheta2\u001b[0m \u001b[1;33m=\u001b[0m \u001b[1;33m(\u001b[0m\u001b[0mtheta1\u001b[0m \u001b[1;33m+\u001b[0m \u001b[0mfrac\u001b[0m\u001b[1;33m)\u001b[0m \u001b[1;32mif\u001b[0m \u001b[0mcounterclock\u001b[0m \u001b[1;32melse\u001b[0m \u001b[1;33m(\u001b[0m\u001b[0mtheta1\u001b[0m \u001b[1;33m-\u001b[0m \u001b[0mfrac\u001b[0m\u001b[1;33m)\u001b[0m\u001b[1;33m\u001b[0m\u001b[1;33m\u001b[0m\u001b[0m\n\u001b[0;32m   2610\u001b[0m             \u001b[0mthetam\u001b[0m \u001b[1;33m=\u001b[0m \u001b[1;36m2\u001b[0m \u001b[1;33m*\u001b[0m \u001b[0mnp\u001b[0m\u001b[1;33m.\u001b[0m\u001b[0mpi\u001b[0m \u001b[1;33m*\u001b[0m \u001b[1;36m0.5\u001b[0m \u001b[1;33m*\u001b[0m \u001b[1;33m(\u001b[0m\u001b[0mtheta1\u001b[0m \u001b[1;33m+\u001b[0m \u001b[0mtheta2\u001b[0m\u001b[1;33m)\u001b[0m\u001b[1;33m\u001b[0m\u001b[1;33m\u001b[0m\u001b[0m\n\u001b[1;32m-> 2611\u001b[1;33m             \u001b[0mx\u001b[0m \u001b[1;33m+=\u001b[0m \u001b[0mexpl\u001b[0m \u001b[1;33m*\u001b[0m \u001b[0mmath\u001b[0m\u001b[1;33m.\u001b[0m\u001b[0mcos\u001b[0m\u001b[1;33m(\u001b[0m\u001b[0mthetam\u001b[0m\u001b[1;33m)\u001b[0m\u001b[1;33m\u001b[0m\u001b[1;33m\u001b[0m\u001b[0m\n\u001b[0m\u001b[0;32m   2612\u001b[0m             \u001b[0my\u001b[0m \u001b[1;33m+=\u001b[0m \u001b[0mexpl\u001b[0m \u001b[1;33m*\u001b[0m \u001b[0mmath\u001b[0m\u001b[1;33m.\u001b[0m\u001b[0msin\u001b[0m\u001b[1;33m(\u001b[0m\u001b[0mthetam\u001b[0m\u001b[1;33m)\u001b[0m\u001b[1;33m\u001b[0m\u001b[1;33m\u001b[0m\u001b[0m\n\u001b[0;32m   2613\u001b[0m \u001b[1;33m\u001b[0m\u001b[0m\n",
      "\u001b[1;31mTypeError\u001b[0m: only size-1 arrays can be converted to Python scalars"
     ]
    }
   ],
   "source": [
    "# A standard pie plot\n",
    "axs[0, 0].pie(df[[\"Perqindja Femra\", \"Perqindja Meshkuj\"]].loc[df[\"Emri\"]==\"Kolegji Fama\"].values, autopct='%1.1f%%')"
   ]
  },
  {
   "cell_type": "code",
   "execution_count": null,
   "metadata": {},
   "outputs": [],
   "source": []
  },
  {
   "cell_type": "code",
   "execution_count": null,
   "metadata": {},
   "outputs": [],
   "source": []
  }
 ],
 "metadata": {
  "kernelspec": {
   "display_name": "Python 3",
   "language": "python",
   "name": "python3"
  },
  "language_info": {
   "codemirror_mode": {
    "name": "ipython",
    "version": 3
   },
   "file_extension": ".py",
   "mimetype": "text/x-python",
   "name": "python",
   "nbconvert_exporter": "python",
   "pygments_lexer": "ipython3",
   "version": "3.6.9"
  }
 },
 "nbformat": 4,
 "nbformat_minor": 2
}
