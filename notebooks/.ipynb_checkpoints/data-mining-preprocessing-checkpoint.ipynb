{
 "cells": [
  {
   "cell_type": "code",
   "execution_count": 20,
   "metadata": {},
   "outputs": [],
   "source": [
    "import pandas as pd\n",
    "import numpy as np\n",
    "\n",
    "# Load everything\n",
    "df_albin = pd.read_csv(\n",
    "    \"../data/raw/albini2017.csv\",\n",
    "    parse_dates=[\"Date\"],\n",
    "    infer_datetime_format=True,\n",
    "    dtype={\n",
    "        \"Likes\": np.int32,\n",
    "        \"Comments\": np.int32,\n",
    "        \"Shares\": np.int32,\n",
    "    },\n",
    "    dayfirst = True,\n",
    ")\n",
    "df_vjosa = pd.read_csv(\n",
    "    \"../data/raw/VjosaOsmaniMP.csv\",\n",
    "    parse_dates=[\"Date\"],\n",
    "    infer_datetime_format=True,\n",
    "    dtype={\n",
    "        \"Likes\": np.int32,\n",
    "        \"Comments\": np.int32,\n",
    "        \"Shares\": np.int32,\n",
    "    },\n",
    "    dayfirst = True,\n",
    ")\n",
    "df_kadri = pd.read_csv(\n",
    "    \"../data/raw/kadriveseliofficial.csv\",\n",
    "    parse_dates=[\"Date\"],\n",
    "    infer_datetime_format=True,\n",
    "    dtype={\n",
    "        \"Likes\": np.int32,\n",
    "        \"Comments\": np.int32,\n",
    "        \"Shares\": np.int32,\n",
    "    },\n",
    "    dayfirst = True,\n",
    ")\n",
    "df_ramush = pd.read_csv(\n",
    "    \"../data/raw/RamushHaradinajOfficial.csv\",\n",
    "    parse_dates=[\"Date\"],\n",
    "    infer_datetime_format=True,\n",
    "    dtype={\n",
    "        \"Likes\": np.int32,\n",
    "        \"Comments\": np.int32,\n",
    "        \"Shares\": np.int32,\n",
    "    },\n",
    "    dayfirst = True,\n",
    ")\n",
    "df_fatmir = pd.read_csv(\n",
    "    \"../data/raw/FatmirLimajKM.csv\",\n",
    "    parse_dates=[\"Date\"],\n",
    "    infer_datetime_format=True,\n",
    "    dtype={\n",
    "        \"Likes\": np.int32,\n",
    "        \"Comments\": np.int32,\n",
    "        \"Shares\": np.int32,\n",
    "    },\n",
    "    dayfirst = True,\n",
    ")"
   ]
  },
  {
   "cell_type": "code",
   "execution_count": 21,
   "metadata": {},
   "outputs": [],
   "source": [
    "# TODO(Re-factor the code below into one forloop!)"
   ]
  },
  {
   "cell_type": "code",
   "execution_count": 54,
   "metadata": {},
   "outputs": [],
   "source": [
    "df_fatmir_daily = df_fatmir.groupby(df_fatmir[\"Date\"].dt.date)[\"Likes\", \"Shares\", \"Comments\"].sum()\n",
    "df_fatmir_daily[\"Posts\"] = df_fatmir.groupby(df_fatmir[\"Date\"].dt.date)[\"Date\"].count()\n",
    "df_fatmir_daily[\"Name\"] = \"Fatmir Limaj\"\n",
    "df_fatmir_daily[\"Color\"] = \"#33a02c\""
   ]
  },
  {
   "cell_type": "code",
   "execution_count": 55,
   "metadata": {},
   "outputs": [],
   "source": [
    "df_albin_daily = df_albin.groupby(df_albin[\"Date\"].dt.date)[\"Likes\", \"Shares\", \"Comments\"].sum()\n",
    "df_albin_daily[\"Posts\"] = df_albin.groupby(df_albin[\"Date\"].dt.date)[\"Date\"].count()\n",
    "df_albin_daily[\"Name\"] = \"Albin Kurti\"\n",
    "df_albin_daily[\"Color\"] = \"#e31a1c\""
   ]
  },
  {
   "cell_type": "code",
   "execution_count": 56,
   "metadata": {},
   "outputs": [],
   "source": [
    "df_ramush_daily = df_ramush.groupby(df_ramush[\"Date\"].dt.date)[\"Likes\", \"Shares\", \"Comments\"].sum()\n",
    "df_ramush_daily[\"Posts\"] = df_ramush.groupby(df_ramush[\"Date\"].dt.date)[\"Date\"].count()\n",
    "df_ramush_daily[\"Name\"] = \"Ramush Haradinaj\"\n",
    "df_ramush_daily[\"Color\"] = \"#fb9a99\""
   ]
  },
  {
   "cell_type": "code",
   "execution_count": 57,
   "metadata": {},
   "outputs": [],
   "source": [
    "df_vjosa_daily = df_vjosa.groupby(df_vjosa[\"Date\"].dt.date)[\"Likes\", \"Shares\", \"Comments\"].sum()\n",
    "df_vjosa_daily[\"Posts\"] = df_vjosa.groupby(df_vjosa[\"Date\"].dt.date)[\"Date\"].count()\n",
    "df_vjosa_daily[\"Name\"] = \"Vjosa R. Osmani\"\n",
    "df_vjosa_daily[\"Color\"] = \"#a6cee3\""
   ]
  },
  {
   "cell_type": "code",
   "execution_count": 58,
   "metadata": {},
   "outputs": [],
   "source": [
    "df_kadri_daily = df_kadri.groupby(df_kadri[\"Date\"].dt.date)[\"Likes\", \"Shares\", \"Comments\"].sum()\n",
    "df_kadri_daily[\"Posts\"] = df_kadri.groupby(df_kadri[\"Date\"].dt.date)[\"Date\"].count()\n",
    "df_kadri_daily[\"Name\"] = \"Kadri Veseli\"\n",
    "df_kadri_daily[\"Color\"] = \"#1f78b4\""
   ]
  },
  {
   "cell_type": "code",
   "execution_count": 59,
   "metadata": {},
   "outputs": [],
   "source": [
    "df = pd.concat(\n",
    "    [\n",
    "        df_fatmir_daily.reset_index(),\n",
    "        df_albin_daily.reset_index(),\n",
    "        df_ramush_daily.reset_index(),\n",
    "        df_vjosa_daily.reset_index(),\n",
    "        df_kadri_daily.reset_index(),\n",
    "    ],\n",
    "    axis=0,\n",
    ")"
   ]
  },
  {
   "cell_type": "code",
   "execution_count": 61,
   "metadata": {},
   "outputs": [],
   "source": [
    "df.to_csv(\"../data/interim/facebook-activity.csv\", index=False)"
   ]
  },
  {
   "cell_type": "code",
   "execution_count": null,
   "metadata": {},
   "outputs": [],
   "source": []
  }
 ],
 "metadata": {
  "kernelspec": {
   "display_name": "Python 3",
   "language": "python",
   "name": "python3"
  },
  "language_info": {
   "codemirror_mode": {
    "name": "ipython",
    "version": 3
   },
   "file_extension": ".py",
   "mimetype": "text/x-python",
   "name": "python",
   "nbconvert_exporter": "python",
   "pygments_lexer": "ipython3",
   "version": "3.6.9"
  }
 },
 "nbformat": 4,
 "nbformat_minor": 2
}
